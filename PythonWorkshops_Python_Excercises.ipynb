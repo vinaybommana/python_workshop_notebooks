{
 "cells": [
  {
   "cell_type": "markdown",
   "metadata": {},
   "source": [
    "### Try it #01\n",
    "Now write a program which prints Hello to the world !!!<br>\n",
    "(after typing the code , press Shift+Enter to run it)"
   ]
  },
  {
   "cell_type": "code",
   "execution_count": 1,
   "metadata": {},
   "outputs": [
    {
     "name": "stdout",
     "output_type": "stream",
     "text": [
      "hello world\n"
     ]
    }
   ],
   "source": [
    "#Add your code here\n",
    "print(\"hello world\")\n"
   ]
  },
  {
   "cell_type": "markdown",
   "metadata": {},
   "source": [
    "[Back to Practice](PythonWorkshops_Python_Programming.ipynb#Complete--Try-it-#01)"
   ]
  },
  {
   "cell_type": "markdown",
   "metadata": {},
   "source": [
    "### Try it #02\n",
    "Assign value 100 to a <br> \n",
    "Check the type of a <br>\n",
    "Assign value a*2.3 to a <br>\n",
    "Check the type of a <br>\n",
    "Assign value \"checkType\" to a <br>\n",
    "check the type of a <br>\n",
    "try changing the value of a from int, float, string, boolean and verify types. "
   ]
  },
  {
   "cell_type": "code",
   "execution_count": 5,
   "metadata": {},
   "outputs": [
    {
     "name": "stdout",
     "output_type": "stream",
     "text": [
      "<class 'int'>\n",
      "<class 'str'>\n",
      "<class 'int'>\n",
      "<class 'int'>\n",
      "<class 'float'>\n",
      "<class 'str'>\n",
      "<class 'bool'>\n"
     ]
    }
   ],
   "source": [
    "#Add your code here\n",
    "\n",
    "\n",
    "a = 100\n",
    "print(type(a))\n",
    "\n",
    "a *= 2.3\n",
    "\n",
    "a = \"checkType\"\n",
    "print(type(a))\n",
    "\n",
    "a = 1\n",
    "print(type(a))\n",
    "\n",
    "a = int(a)\n",
    "print(type(a))\n",
    "\n",
    "a = float(a)\n",
    "print(type(a))\n",
    "\n",
    "a = str(a)\n",
    "print(type(a))\n",
    "\n",
    "a = bool(a)\n",
    "print(type(a))\n"
   ]
  },
  {
   "cell_type": "markdown",
   "metadata": {},
   "source": [
    "[Back to Practice](PythonWorkshops_Python_Programming.ipynb#Complete--Try-it-#02)"
   ]
  },
  {
   "cell_type": "markdown",
   "metadata": {},
   "source": [
    "### Try it #03\n",
    "\n",
    "Apply all arthimetic Operators on 23 and 4"
   ]
  },
  {
   "cell_type": "code",
   "execution_count": 6,
   "metadata": {},
   "outputs": [
    {
     "name": "stdout",
     "output_type": "stream",
     "text": [
      "27\n",
      "19\n",
      "92\n",
      "5.75\n"
     ]
    }
   ],
   "source": [
    "#Add your code here\n",
    "\n",
    "print(23 + 4)\n",
    "print(23 - 4)\n",
    "print(23 * 4)\n",
    "print(23 / 4)\n"
   ]
  },
  {
   "cell_type": "markdown",
   "metadata": {},
   "source": [
    "[Back to Practice](PythonWorkshops_Python_Programming.ipynb#Complete--Try-it-#03)"
   ]
  },
  {
   "cell_type": "markdown",
   "metadata": {},
   "source": [
    "### Try it #04\n",
    "\n",
    "Apply all comparission operators on 1 and -1"
   ]
  },
  {
   "cell_type": "code",
   "execution_count": 20,
   "metadata": {},
   "outputs": [
    {
     "name": "stdout",
     "output_type": "stream",
     "text": [
      "False\n",
      "True\n",
      "False\n",
      "True\n"
     ]
    }
   ],
   "source": [
    "#Add your code here\n",
    "\n",
    "print(1 == -1)\n",
    "\n",
    "print(1 > -1)\n",
    "\n",
    "print(1 < -1)\n",
    "\n",
    "print(1 != -1)\n"
   ]
  },
  {
   "cell_type": "markdown",
   "metadata": {},
   "source": [
    "[Back to Practice](PythonWorkshops_Python_Programming.ipynb#Complete--Try-it-#04)"
   ]
  },
  {
   "cell_type": "markdown",
   "metadata": {},
   "source": [
    "### Try it #05\n",
    "\n",
    "Apply Logical Operators between a and b given a = True and b = False"
   ]
  },
  {
   "cell_type": "code",
   "execution_count": 29,
   "metadata": {},
   "outputs": [
    {
     "name": "stdout",
     "output_type": "stream",
     "text": [
      "False\n",
      "True\n",
      "False\n",
      "True\n"
     ]
    }
   ],
   "source": [
    "#Add your code here\n",
    "\n",
    "a = True\n",
    "b = False\n",
    "\n",
    "print(a and b)\n",
    "print(a or b)\n",
    "print(not a)\n",
    "print(not b)"
   ]
  },
  {
   "cell_type": "markdown",
   "metadata": {},
   "source": [
    "[Back to Practice](PythonWorkshops_Python_Programming.ipynb#Complete--Try-it-#05)"
   ]
  },
  {
   "cell_type": "markdown",
   "metadata": {},
   "source": [
    "### Try it #06\n",
    "\n",
    "Create a table like output with rows 0 0, 0 1, 1 0, 1 1, 1, 0 and columns as &, |, ^, ~, >>, <<\n",
    "Fill the table with results of applying operators in columns to the values in rows. AS below, \n",
    "\n",
    "<img src=\"https://www.electrical4u.com/images/january16/1454934796.GIF\" />"
   ]
  },
  {
   "cell_type": "code",
   "execution_count": 19,
   "metadata": {},
   "outputs": [
    {
     "name": "stdout",
     "output_type": "stream",
     "text": [
      "A           B      &   |   ^    >>   <<\n",
      "0           0     0    0   0   0   0\n",
      "0           1     0    1   1   0   0\n",
      "1           0     0    1   1   1   1\n",
      "1           1     1    1   0   0   2\n",
      "0           0     0    0   0   0   0\n",
      "A ~A\n",
      "0 -1\n",
      "1 -2\n"
     ]
    }
   ],
   "source": [
    "#Add your code here\n",
    "print(\"A           B      &   |   ^    >>   <<\")\n",
    "print(\"0           0     \" + str(0 & 0) + str(\"    \") + str(0 | 0) + str(\"   \") + str(0 ^ 0) + str(\"   \") + str(0 >> 0) + str(\"   \") + str(0 << 0))\n",
    "print(\"0           1     \" + str(0 & 1) + str(\"    \") + str(0 | 1) + str(\"   \") + str(0 ^ 1) + str(\"   \") + str(0 >> 1) + str(\"   \") + str(0 << 1))\n",
    "print(\"1           0     \" + str(1 & 0) + str(\"    \") + str(1 | 0) + str(\"   \") + str(1 ^ 0) + str(\"   \") + str(1 >> 0) + str(\"   \") + str(1 << 0))\n",
    "print(\"1           1     \" + str(1 & 1) + str(\"    \") + str(1 | 1) + str(\"   \") + str(1 ^ 1) + str(\"   \") + str(1 >> 1) + str(\"   \") + str(1 << 1))\n",
    "print(\"0           0     \" + str(0 & 0) + str(\"    \") + str(0 | 0) + str(\"   \") + str(0 ^ 0) + str(\"   \") + str(0 >> 0) + str(\"   \") + str(0 << 0))\n",
    "\n",
    "\n",
    "print(\"A ~A\")\n",
    "print(\"0\" + str(\" \") + str(~0))\n",
    "print(\"1\" + str(\" \") + str(~1))"
   ]
  },
  {
   "cell_type": "markdown",
   "metadata": {},
   "source": [
    "[Back to Practice](PythonWorkshops_Python_Programming.ipynb#Complete--Try-it-#06)"
   ]
  },
  {
   "cell_type": "markdown",
   "metadata": {
    "collapsed": true
   },
   "source": [
    "### Try it #07\n",
    "\n",
    "Somu came to a store and bought 2 products A and B.<br> \n",
    "Product A cost 10 and Product B cost 20. <br>\n",
    "Take input from Somu needs how many product A ? <br>\n",
    "and how many product B ? <br>\n",
    "As Somu is a regular customer give him 10% discount (use [Arthimetic operations](PythonWorkshops_Python_Programming.ipynb#Arthmetic-Operators)) <br>\n",
    "Tell Somu, what is the final bill. "
   ]
  },
  {
   "cell_type": "code",
   "execution_count": 21,
   "metadata": {},
   "outputs": [
    {
     "name": "stdout",
     "output_type": "stream",
     "text": [
      "Enter number of units of A: 20\n",
      "Enter number of units of B: 30\n",
      "The final bill: 100.0\n"
     ]
    }
   ],
   "source": [
    "#Add your code here\n",
    "cost_of_A = 20\n",
    "cost_of_B = 20\n",
    "\n",
    "\n",
    "units_of_A = int(input(\"Enter number of units of A: \"))\n",
    "units_of_B = int(input(\"Enter number of units of B: \"))\n",
    "\n",
    "discount = 0.10\n",
    "\n",
    "final_bill = (units_of_A * cost_of_A + units_of_B * cost_of_B) * discount\n",
    "\n",
    "print(\"The final bill: \" + str(final_bill))\n"
   ]
  },
  {
   "cell_type": "markdown",
   "metadata": {},
   "source": [
    "[Back to Practice](PythonWorkshops_Python_Programming.ipynb#Complete--Try-it-#07)"
   ]
  },
  {
   "cell_type": "markdown",
   "metadata": {},
   "source": [
    "### Try it #08\n",
    "\n",
    "Take the program you wrote in [Try it #07]()<br>\n",
    "pass the product A and B prices as arguments and take the values from sys.argv<br>\n",
    "and rerun the program. <br>\n",
    "\n",
    "AS you use files here, you need to learn how to run python from command line. <br>\n",
    "If you are Anaconda Navigator --> Click on Environment --> Root Start button --> Open Terminal <br>\n",
    "you can run python <pythonfile> <args> here <br>\n",
    "or if you installed python directly and set it in environment variables, you can goto command prompt and run python <filename> <args> <br>"
   ]
  },
  {
   "cell_type": "code",
   "execution_count": null,
   "metadata": {},
   "outputs": [],
   "source": [
    "import sys\n",
    "cost_of_A = 20\n",
    "cost_of_B = 20\n",
    "\n",
    "\n",
    "units_of_A = int(sys.argv[1])\n",
    "units_of_B = int(sys.argv[2])\n",
    "# print(units_of_A)\n",
    "# print(units_of_B)\n",
    "\n",
    "discount = 0.10\n",
    "\n",
    "final_bill = (units_of_A * cost_of_A + units_of_B * cost_of_B) * discount\n",
    "\n",
    "print(\"The final bill: \" + str(round(final_bill, 2)))\n"
   ]
  },
  {
   "cell_type": "markdown",
   "metadata": {},
   "source": [
    "[Back to Practice](PythonWorkshops_Python_Programming.ipynb#Complete--Try-it-#08)"
   ]
  },
  {
   "cell_type": "markdown",
   "metadata": {},
   "source": [
    "### Try it #09\n",
    "You are back from US and you have only dollars, so you need cash in Rupees, you went to money exchange center. the person there will ask you how many dollars ? he will convert it to ruppees, deduct conversion charge and tell you the amount you will get. \n",
    "\n",
    "Write a function which will take money in dollars and return rupees (use 1 dollar = 65 Rs)\n",
    "Write another function which deducts 1% of the converted money value as conversion charge and give the result to customer"
   ]
  },
  {
   "cell_type": "code",
   "execution_count": 49,
   "metadata": {},
   "outputs": [
    {
     "name": "stdout",
     "output_type": "stream",
     "text": [
      "Enter number of dollars: 1\n",
      "64.99\n"
     ]
    }
   ],
   "source": [
    "#Add your code here \n",
    "def read_number_of_dollars():\n",
    "    number_of_dollars = int(input(\"Enter number of dollars: \"))\n",
    "    return number_of_dollars\n",
    "\n",
    "\n",
    "def deduct_charges(amount):\n",
    "    deduction_charges = 0.01 * amount\n",
    "    return amount - deduction_charges\n",
    "\n",
    "\n",
    "def find_amount_in_rupees():\n",
    "    amount = read_number_of_dollars() * rupee_conversion_rate\n",
    "    return deduct_charges(amount)\n",
    "\n",
    "\n",
    "rupee_conversion_rate = 65\n",
    "\n",
    "if __name__ == \"__main__\":\n",
    "    amount = find_amount_in_rupees()\n",
    "    print(amount)\n"
   ]
  },
  {
   "cell_type": "markdown",
   "metadata": {},
   "source": [
    "[Back to Practice](PythonWorkshops_Python_Programming.ipynb#Complete--Try-it-#09)"
   ]
  },
  {
   "cell_type": "markdown",
   "metadata": {},
   "source": [
    "### Try it #10\n",
    "Does this program work in real world ? (Refer to program above 10th Excercise in Practie notebook)<br>\n",
    "<i>when someone asks you this question, \n",
    "you need to look at your solution and check,<br> \n",
    "- what are your assumptions in the program?<br> \n",
    "- did you cover both <b>success and failure</b> steps at <b>each stage.</b> </i><br>\n",
    "Before moving to the next section, Identify atleast one gap in above program which helps in calculating Somu bill properly and write your program below?<br><br>\n"
   ]
  },
  {
   "cell_type": "code",
   "execution_count": 77,
   "metadata": {},
   "outputs": [
    {
     "name": "stdout",
     "output_type": "stream",
     "text": [
      "Enter number of dollars: 1\n",
      "64.35\n"
     ]
    }
   ],
   "source": [
    "#Write your program here\n",
    "#Add your code here\n",
    "\n",
    "number_of_dollars = int(input(\"Enter number of dollars: \"))\n",
    "deduction_charges = 0.01 * number_of_dollars * rupee_conversion_rate\n",
    "rupee_conversion_rate = 65\n",
    "if number_of_dollars > 0:\n",
    "    amount = number_of_dollars * rupee_conversion_rate\n",
    "    amount -= deduction_charges\n",
    "else:\n",
    "    print(\"please enter positive value for input\\n\")\n",
    "\n",
    "print(amount)\n"
   ]
  },
  {
   "cell_type": "markdown",
   "metadata": {},
   "source": [
    "[Back to Practice](PythonWorkshops_Python_Programming.ipynb#Complete--Try-it-#10)"
   ]
  },
  {
   "cell_type": "markdown",
   "metadata": {},
   "source": [
    "### Try it #11\n",
    "\n",
    "Take the billing system program and rewrite it using 2 data structures as <br>\n",
    "products_list, Product_cost_list   <br>\n",
    "Where ever you are accessing product names and costs you should use lists <br>"
   ]
  },
  {
   "cell_type": "code",
   "execution_count": 28,
   "metadata": {},
   "outputs": [
    {
     "name": "stdout",
     "output_type": "stream",
     "text": [
      "Enter number of units of A: 20\n",
      "Enter number of units of B: 30\n",
      "The final bill: 100.0\n"
     ]
    }
   ],
   "source": [
    "#Add your code here\n",
    "products_list = ['A', 'B']\n",
    "Product_cost_list = [20, 20]\n",
    "\n",
    "\n",
    "units_of_A = int(input(\"Enter number of units of A: \"))\n",
    "units_of_B = int(input(\"Enter number of units of B: \"))\n",
    "\n",
    "discount = 0.10\n",
    "\n",
    "final_bill = (Product_cost_list[0] * units_of_A + Product_cost_list[1] * units_of_B) * discount\n",
    "\n",
    "print(\"The final bill: \" + str(final_bill))\n"
   ]
  },
  {
   "cell_type": "markdown",
   "metadata": {},
   "source": [
    "[Back to Practice](PythonWorkshops_Python_Programming.ipynb#Complete--Try-it-#11)"
   ]
  },
  {
   "cell_type": "markdown",
   "metadata": {},
   "source": [
    "### Try it #12\n",
    "\n",
    "Dictonaries<br>\n",
    "\n",
    "you are in a business conference, the french team near you are your potential clients, you want to greet them and talk about their new project ? <br>\n",
    "To start with you ask a question , if they can speak english and they say No. <br>\n",
    "So you need to talk to them in French, create a dictonary out of the below table, key = english word --> value is a list of french word,Pronunciation.<br>\n",
    "So now when ever you want to talk something in english , you say that sentence to this program and it translates it to French for you <br>\n",
    "If some words are not present in below conversion table , keep the same word in english to french. <br>\n",
    "\n",
    "Example: <br>\n",
    "\n",
    "Enter your setence: How are you ? <br>\n",
    "In French: Comment allez-vous?  -  kommahng tahlay voo <br>\n",
    "\n",
    "Enter your setence: How many products ? <br>\n",
    "In French: Combien? products - kong-byang products <br>\n",
    "\n",
    "Exit conversation if entered setence is bye or exit<br>\n",
    "\n",
    "\n",
    "<table class=\"languageresults\">       \n",
    "<tbody><tr>\n",
    "<th><div><b>English</b></div></th>\n",
    "<th><div><b>French</b></div><div><i>Pronunciation</i></div></th>\n",
    "</tr>\n",
    "<tr>\n",
    "<td>Yes/No</td>\n",
    "<td><div><b>Oui/Non</b></div><div><i>wee/nong</i></div></td>\n",
    "</tr>\n",
    "<tr>\n",
    "<td>Yes, please/No, thank you</td>\n",
    "<td><div><b>Oui, s'il vous plaît/Non, merci</b></div><div><i>wee, seel voo play/nong, mair-see</i></div></td>\n",
    "</tr>\n",
    "<tr>\n",
    "<td>Please</td>\n",
    "<td><div><b>S'il vous plaît</b></div><div><i>seel voo play</i></div></td>\n",
    "</tr>\n",
    "<tr>\n",
    "<td>Thank you</td>\n",
    "<td><div><b>Merci (madame/monsieur)</b></div><div><i>mair-see (mah-dahm/mer-syer)</i></div></td>\n",
    "</tr>\n",
    "<tr>\n",
    "<td>You're welcome</td>\n",
    "<td><div><b>Il n'y a pas de quoi</b></div><div><i>eel nyah pah der kwah</i></div></td>\n",
    "</tr>\n",
    "<tr>\n",
    "<td>Here is/are</td>\n",
    "<td><div><b>Voici...</b></div><div><i>vwah-see</i></div></td>\n",
    "</tr>\n",
    "<tr>\n",
    "<td>There is/are</td>\n",
    "<td><div><b>Voilà...</b></div><div><i>vwah-la</i></div></td>\n",
    "</tr>\n",
    "<tr>\n",
    "<td>Hello/Good morning/afternoon</td>\n",
    "<td><div><b>Bonjour, (madame/monsieur)</b></div><div><i>bong-zhoor, (mah-dahm/mer-syer)</i></div></td>\n",
    "</tr>\n",
    "<tr>\n",
    "<td>Hello/Good evening</td>\n",
    "<td><div><b>Bonsoir (madame/monsieur)</b></div><div><i>bong-swahr, (mah-dahm/mer-syer)</i></div></td>\n",
    "</tr>\n",
    "<tr>\n",
    "<td>Goodbye</td>\n",
    "<td><div><b>Au revoir</b></div><div><i>oh rer-vwahr</i></div></td>\n",
    "</tr>\n",
    "<tr>\n",
    "<td>Good night</td>\n",
    "<td><div><b>Bonne nuit</b></div><div><i>bonn nwee</i></div></td>\n",
    "</tr>\n",
    "<tr>\n",
    "<td>How are you?</td>\n",
    "<td><div><b>Comment allez-vous?</b></div><div><i>kommahng tahlay voo</i></div></td>\n",
    "</tr>\n",
    "<tr>\n",
    "<td>Very well, thanks</td>\n",
    "<td><div><b>Très bien, merci</b></div><div><i>tray byang mair-see</i></div></td>\n",
    "</tr>\n",
    "<tr>\n",
    "<td>Excuse me</td>\n",
    "<td><div><b>Excusez-moi</b></div><div><i>ex-kewzay mwah</i></div></td>\n",
    "</tr>\n",
    "<tr>\n",
    "<td>Do you speak English?</td>\n",
    "<td><div><b>Est-ce que vous parlez anglais?</b></div><div><i>essker voo pahrlay ahng-glay</i></div></td>\n",
    "</tr>\n",
    "<tr>\n",
    "<td>Can you help me?</td>\n",
    "<td><div><b>Est-ce que vous pouvez m'aider?</b></div><div><i>essker voo poovay may-day</i></div></td>\n",
    "</tr>\n",
    "<tr>\n",
    "<td>I don't understand.</td>\n",
    "<td><div><b>Je ne comprends pas.</b></div><div><i>zher ner kong-prahng pah</i></div></td>\n",
    "</tr>\n",
    "<tr>\n",
    "<td>I don't know.</td>\n",
    "<td><div><b>Je ne sais pas.</b></div><div><i>zher ner say pah</i></div></td>\n",
    "</tr>\n",
    "<tr>\n",
    "<td>Could you please write it down</td>\n",
    "<td><div><b>Est-ce que vous pouvez l'écrire?</b></div><div><i>essker voo poovay lay-kreer</i></div></td>\n",
    "</tr>\n",
    "<tr>\n",
    "<td>Sorry</td>\n",
    "<td><div><b>Désolé(e)</b></div><div><i>day-zo-lay</i></div></td>\n",
    "</tr>\n",
    "<tr>\n",
    "<td>Leave me alone!</td>\n",
    "<td><div><b>Laissez-moi tranquille.</b></div><div><i>lay-say mwah trahng-keel</i></div></td>\n",
    "</tr>\n",
    "<tr>\n",
    "<td>Where?</td>\n",
    "<td><div><b>Où?</b></div><div><i>oo</i></div></td>\n",
    "</tr>\n",
    "<tr>\n",
    "<td>When?</td>\n",
    "<td><div><b>Quand?</b></div><div><i>kahng</i></div></td>\n",
    "</tr>\n",
    "<tr>\n",
    "<td>How?</td>\n",
    "<td><div><b>Comment?</b></div><div><i>kommahng</i></div></td>\n",
    "</tr>\n",
    "<tr>\n",
    "<td>Why?</td>\n",
    "<td><div><b>Pourquoi?</b></div><div><i>poor-kwah</i></div></td>\n",
    "</tr>\n",
    "<tr>\n",
    "<td>Who?</td>\n",
    "<td><div><b>Qui?</b></div><div><i>kee</i></div></td>\n",
    "</tr>\n",
    "<tr>\n",
    "<td>Which?</td>\n",
    "<td><div><b>Lequel?/Laquelle?</b></div><div><i>ler-kell/lah-kell</i></div></td>\n",
    "</tr>\n",
    "<tr>\n",
    "<td>Where is...?</td>\n",
    "<td><div><b>Où est...?</b></div><div><i>oo ay</i></div></td>\n",
    "</tr>\n",
    "<tr>\n",
    "<td>How much?</td>\n",
    "<td><div><b>Combien?</b></div><div><i>kong-byang</i></div></td>\n",
    "</tr>\n",
    "<tr>\n",
    "<td>How many?</td>\n",
    "<td><div><b>Combien?</b></div><div><i>kong-byang</i></div></td>\n",
    "</tr>\n",
    "<tr>\n",
    "<td>What's that?</td>\n",
    "<td><div><b>Qu'est-ce que c'est?</b></div><div><i>kessker say</i></div></td>\n",
    "</tr>\n",
    "<tr>\n",
    "<td>I'd like...</td>\n",
    "<td><div><b>Je voudrais...</b></div><div><i>zher voodray</i></div></td>\n",
    "</tr>\n",
    "<tr>\n",
    "<td>I want...</td>\n",
    "<td><div><b>Je veux...</b></div><div><i>zher ver</i></div></td>\n",
    "</tr>\n",
    "<tr>\n",
    "<td>I like it.</td>\n",
    "<td><div><b>Ça me plaît.</b></div><div><i>sahm play</i></div></td>\n",
    "</tr>\n",
    "<tr>\n",
    "<td>I don't like it.</td>\n",
    "<td><div><b>Ça ne me plaît pas.</b></div><div><i>sah ner mer play pah</i></div></td>\n",
    "</tr>\n",
    "<tr>\n",
    "<td>OK/Agreed.</td>\n",
    "<td><div><b>Ça va/d'accord.</b></div><div><i>sah vah/dah-korr</i></div></td>\n",
    "</tr>\n",
    "<tr>\n",
    "<td>That's fine.</td>\n",
    "<td><div><b>C'est bien.</b></div><div><i>say byang</i></div></td>\n",
    "</tr>\n",
    "<tr>\n",
    "<td>I love you (singular)</td>\n",
    "<td><div><b>Je t'aime</b></div><div><i>zhuh tem</i></div></td>\n",
    "</tr>\n",
    "<tr>\n",
    "<td>I love you! (plural)</td>\n",
    "<td><div><b>Je vous aime</b></div><div><i>zhuh voo zem</i></div></td>\n",
    "</tr>\n",
    "</tbody></table>"
   ]
  },
  {
   "cell_type": "code",
   "execution_count": 56,
   "metadata": {},
   "outputs": [
    {
     "name": "stdout",
     "output_type": "stream",
     "text": [
      "Enter the sentence: how many products?\n",
      "Combien products?\n",
      "Enter the sentence: Good morning\n",
      "Bonjour, (madame/monsieur)\n",
      "Enter the sentence: you're welcome\n",
      "Il n'y a pas de quoi\n",
      "Enter the sentence: How do you speak English?\n",
      "Enter the sentence: bye\n"
     ]
    }
   ],
   "source": [
    "#Add your code here \n",
    "\n",
    "french_translation = {\n",
    "    'yes': 'oui',\n",
    "    'no':  'non',\n",
    "    'please': 's\\'il vous plaît',\n",
    "    'thank you': 'merci',\n",
    "    'thanks': 'merci',\n",
    "    'you\\'re welcome': 'Il n\\'y a pas de quoi',\n",
    "    'tere is': 'voici',\n",
    "    'tere are': 'voici',\n",
    "    'there is': 'Voilà',\n",
    "    'there are': 'Voilà',\n",
    "    'hello': 'Bonjour, (madame/monsieur)',\n",
    "    'good morning': 'Bonjour, (madame/monsieur)',\n",
    "    'good afternoon': 'Bonjour, (madame/monsieur)',\n",
    "    'good evening': 'Bonsoir (madame/monsieur)',\n",
    "    'good bye': 'Au revoir',\n",
    "    'good night': 'Bonne nuit',\n",
    "    '?': '?',\n",
    "    'how are you?': 'Comment allez-vous?',\n",
    "    'very well': 'Très bien',\n",
    "    ',': ',',\n",
    "    'excuse me': 'Excusez-moi',\n",
    "    'do you speak English?': 'Est-ce que vous parlez anglais?',\n",
    "    'can you help me?': 'Est-ce que vous pouvez m\\'aider?',\n",
    "    'i don\\'t understand.': 'Je ne comprends pas.',\n",
    "    'i don\\'t know.': 'Je ne sais pas.',\n",
    "    'could you please write it down?': 'Est-ce que vous pouvez l\\'écrire?',\n",
    "    'sorry': 'Désolé(e)',\n",
    "    'leave me alone!': 'Laissez-moi tranquille.',\n",
    "    'where': 'Où',\n",
    "    'where?': 'Où?',\n",
    "    'when?': 'Quand?',\n",
    "    'when': 'Quand',\n",
    "    'how?': 'Comment?',\n",
    "    'how': 'Comment',\n",
    "    'why?': 'Pourquoi?',\n",
    "    'why': 'Pourquoi',\n",
    "    'who?': 'Qui?',\n",
    "    'who': 'Qui',\n",
    "    'which?': 'Lequel?/Laquelle?',\n",
    "    'which': 'Lequel/Laquelle',\n",
    "    'where is': 'Où est',\n",
    "    'how much?': 'Combien?',\n",
    "    'how much?': 'Combien?',\n",
    "    'how many?': 'Combien?',\n",
    "    'how many': 'Combien',\n",
    "    'what\\'s that?': 'Qu\\'est-ce que c\\'est?',\n",
    "    'i\\'d like': 'Je voudrais',\n",
    "    'i want': 'Je veux',\n",
    "    'i like it': 'Ça me plaît',\n",
    "    'i don\\'t like it': 'Ça ne me plaît pas',\n",
    "    'ok': 'Ça va',\n",
    "    'agreed': 'd\\'accord',\n",
    "    'that\\'s fine': 'C\\'est bien',\n",
    "    'i love you': 'Je t\\'aime',\n",
    "    'i love you!': 'Je vous aime',\n",
    "}\n",
    "\n",
    "\n",
    "def read_sentence():\n",
    "    french_sentence = input(\"Enter the sentence: \")\n",
    "    return french_sentence\n",
    "\n",
    "\n",
    "if __name__ == \"__main__\":\n",
    "    french_sentence = read_sentence()\n",
    "#     print(french_sentence)\n",
    "    while (french_sentence != \"bye\" and french_sentence != \"exit\"):\n",
    "#         print(french_sentence)\n",
    "        french_sentence = french_sentence.lower()\n",
    "        if french_sentence in french_translation:\n",
    "            print(french_translation[french_sentence])\n",
    "        else:\n",
    "            french_sentence = french_sentence.rsplit(\" \", 1)\n",
    "            if french_sentence[0] in french_translation:\n",
    "                if french_sentence[1] in french_translation:\n",
    "                    print(french_translation[french_sentence[0]] + str(\" \") + french_translation[french_sentence[1]])\n",
    "                else:\n",
    "                    print(french_translation[french_sentence[0]] + str(\" \") + french_sentence[1])\n",
    "                    \n",
    "        french_sentence = read_sentence()"
   ]
  },
  {
   "cell_type": "markdown",
   "metadata": {},
   "source": [
    "[Back to Practice](PythonWorkshops_Python_Programming.ipynb#Complete--Try-it-#12)"
   ]
  },
  {
   "cell_type": "markdown",
   "metadata": {},
   "source": [
    "### Try it #13\n",
    "\n",
    "Strings<br>\n",
    "\n",
    "You are presenting text to students on python strings, but its not formated and has few mistakes, you need to correct it using a python program. Fix the below issues. Input is the setence and output needs to be the same setence without mentioed issues. <br>\n",
    "\n",
    "Sentence:<br>\n",
    "\"<i> Using string methods in Jython is very he1pful. but you need to have a clear understanding of the method syntax and usage or e1se your jython program may fail complet1y. There is no wonder jython string methods are usefu1 in handling text proper1y.  </i>\"<br>\n",
    "\n",
    "Issues:<br>\n",
    "1. Python is miss typed as Jython or jython\n",
    "2. l in few places is typed as 1. \n",
    "3. Setnence starting word after . (full stop symbol) should start with capital letter\n",
    "4. Make syntax and usage words all capitals as they need emphasis. "
   ]
  },
  {
   "cell_type": "code",
   "execution_count": 75,
   "metadata": {},
   "outputs": [
    {
     "name": "stdout",
     "output_type": "stream",
     "text": [
      "Using string methods in Python is very helpful. But you need to have a clear understanding of the method SYNTAX and USAGE or else your Python program may fail completly. There is no wonder Python string methods are useful in handling text properly. \n"
     ]
    }
   ],
   "source": [
    "#Add your code here\n",
    "input_string = \"Using string methods in Jython is very he1pful. but you need to have a clear understanding of the method syntax and usage or e1se your jython program may fail complet1y. There is no wonder jython string methods are usefu1 in handling text proper1y.\"\n",
    "\n",
    "\n",
    "def replace_python(input_string):\n",
    "    list_of_words = input_string.split()\n",
    "    for i in list_of_words:\n",
    "        if i == \"Jython\" or i == \"jython\":\n",
    "            list_of_words[list_of_words.index(i)] = \"Python\"\n",
    "    \n",
    "    word_replaced_string = str()\n",
    "    \n",
    "    for i in list_of_words:\n",
    "        word_replaced_string += i\n",
    "        word_replaced_string += \" \"\n",
    "    \n",
    "    return word_replaced_string\n",
    "\n",
    "\n",
    "def make_capital_after_full_stop(input_string):\n",
    "    sentences = input_string.split(\". \")\n",
    "    output_sentence = str()\n",
    "    for sentence in sentences:\n",
    "        if len(sentence) > 0:\n",
    "            capital_sentence = sentences[sentences.index(sentence)][0].upper() + sentences[sentences.index(sentence)][1:]\n",
    "            output_sentence += capital_sentence\n",
    "            output_sentence += \". \"\n",
    "    return output_sentence\n",
    "\n",
    "\n",
    "def replace_one(input_string):\n",
    "    output_string = str()\n",
    "    output_string = input_string.replace(\"1\", \"l\")\n",
    "    return output_string\n",
    "\n",
    "def capitalise(input_string):\n",
    "    output_string = str()\n",
    "    list_of_words = input_string.split()\n",
    "    for i in list_of_words:\n",
    "        if i == \"syntax\" or i == \"usage\":\n",
    "            list_of_words[list_of_words.index(i)] = i.upper()\n",
    "    \n",
    "    for i in list_of_words:\n",
    "        output_string += i\n",
    "        output_string += \" \"\n",
    "    \n",
    "    return output_string\n",
    "    \n",
    "    \n",
    "if __name__ == \"__main__\":\n",
    "    print(capitalise(replace_one(make_capital_after_full_stop(replace_python(input_string)))))\n",
    "    "
   ]
  },
  {
   "cell_type": "markdown",
   "metadata": {},
   "source": [
    "[Back to Practice](PythonWorkshops_Python_Programming.ipynb#Complete--Try-it-#13)"
   ]
  },
  {
   "cell_type": "markdown",
   "metadata": {},
   "source": [
    "### Try it #14\n",
    "\n",
    "File handling<br>\n",
    "\n",
    "Function 1:\n",
    "Somu want to create a file with all his bills so far, so take input from him until he says Done, and write it to a file, Bill no\\tDate(DD/MM/YYYY)\\tBill_amount\n",
    "\n",
    "Function 2:\n",
    "Now Somu wants to know what is his total expense out of bills. \n",
    "(optional) see if you can generate sub totals for each month. "
   ]
  },
  {
   "cell_type": "code",
   "execution_count": 84,
   "metadata": {},
   "outputs": [
    {
     "name": "stdout",
     "output_type": "stream",
     "text": [
      "Do you want to add bill or read from bills:[add/ read]: add\n",
      "Enter data: 09 08/08/2017 6700\n",
      "Do you want to add bill or read from bills:[add/ read]: add\n",
      "Enter data: 67 09/08/2017 6500\n",
      "Do you want to add bill or read from bills:[add/ read]: read\n",
      "Which month you want to calculate the bill: 08\n",
      "42100\n",
      "24900\n",
      "Do you want to add bill or read from bills:[add/ read]: Done\n"
     ]
    }
   ],
   "source": [
    "#Add your code here\n",
    "\n",
    "def read_bills():\n",
    "    data = input(\"Enter data: \")\n",
    "    data = data.split()\n",
    "    billno = data[0]\n",
    "    date = data[1]\n",
    "    bill_amount = data[2]\n",
    "    return [billno, date, bill_amount]\n",
    "\n",
    "\n",
    "def calculate_total_bill(data):\n",
    "#     print(data)\n",
    "    total_amount = int()\n",
    "    bill = data[2]\n",
    "    bill = bill.strip()\n",
    "    total_amount += int(bill)\n",
    "    \n",
    "    return total_amount\n",
    "\n",
    "\n",
    "def calculate_monthly_bill(data, month):\n",
    "    date = data[1]\n",
    "    data_month = date.split(\"/\")[1]\n",
    "    total_bill = int()\n",
    "    if str(data_month) == str(month):\n",
    "        total_bill += int(data[2])\n",
    "    \n",
    "    return total_bill\n",
    "        \n",
    "\n",
    "if __name__ == \"__main__\":\n",
    "    \n",
    "    while True:\n",
    "        response = input(\"Do you want to add bill or read from bills:[add/ read]: \")\n",
    "        if response == \"add\":\n",
    "            input_data = read_bills()\n",
    "            with open(\"bills.csv\", \"a+\") as b:\n",
    "                b.write(str(input_data[0]) + str(\",\") + str(input_data[1]) + str(\",\") + str(input_data[2]) + str(\"\\n\"))\n",
    "        \n",
    "        if response == \"read\":\n",
    "            with open(\"bills.csv\", \"r\") as b:\n",
    "                data = list()\n",
    "                total_bill = int()\n",
    "                monthly_bill = int()\n",
    "                month = input(\"Which month you want to calculate the bill: \")\n",
    "                for line in b:\n",
    "                    data = line.split(\",\")\n",
    "                    total_bill += calculate_total_bill(data)\n",
    "                    \n",
    "                    monthly_bill += calculate_monthly_bill(data, month)\n",
    "                print(total_bill)\n",
    "                print(monthly_bill)\n",
    "                \n",
    "        if response == \"Done\" or response == \"done\":\n",
    "            break"
   ]
  },
  {
   "cell_type": "markdown",
   "metadata": {},
   "source": [
    "[Back to Practice](PythonWorkshops_Python_Programming.ipynb#Complete--Try-it-#14)"
   ]
  },
  {
   "cell_type": "markdown",
   "metadata": {},
   "source": [
    "### Try it #15 \n",
    "\n",
    "Exception handling<br>\n",
    "\n",
    "We have been asking Somu to enter product count and what if product count is entered as \"10 no\" which is not a number, your program may fail. <br>\n",
    "\n",
    "What if we are trying to get a product cost from list or dictonary and product is not available it will throw an error <br>\n",
    "\n",
    "Take one of Somu billing program and add exception handling, if there is no exception, say Thank you for using the system. Even if exception is there or not ask him for feedback(input). "
   ]
  },
  {
   "cell_type": "code",
   "execution_count": 1,
   "metadata": {
    "collapsed": true
   },
   "outputs": [],
   "source": [
    "#Add your code here\n",
    "\n",
    "def read_bills():\n",
    "    data = input(\"Enter data: \")\n",
    "    data = data.split()\n",
    "    billno = data[0]\n",
    "    date = data[1]\n",
    "    bill_amount = data[2]\n",
    "    return [billno, date, bill_amount]\n",
    "\n",
    "\n",
    "def calculate_total_bill(data):\n",
    "#     print(data)\n",
    "    total_amount = int()\n",
    "    bill = data[2]\n",
    "    bill = bill.strip()\n",
    "    total_amount += int(bill)\n",
    "    \n",
    "    return total_amount\n",
    "\n",
    "\n",
    "def calculate_monthly_bill(data, month):\n",
    "    date = data[1]\n",
    "    data_month = date.split(\"/\")[1]\n",
    "    total_bill = int()\n",
    "    if str(data_month) == str(month):\n",
    "        total_bill += int(data[2])\n",
    "    \n",
    "    return total_bill\n",
    "        \n",
    "\n",
    "if __name__ == \"__main__\":\n",
    "    \n",
    "    while True:\n",
    "        response = input(\"Do you want to add bill or read from bills:[add/ read]: \")\n",
    "        if response == \"add\":\n",
    "            input_data = read_bills()\n",
    "            with open(\"bills.csv\", \"a+\") as b:\n",
    "                b.write(str(input_data[0]) + str(\",\") + str(input_data[1]) + str(\",\") + str(input_data[2]) + str(\"\\n\"))\n",
    "        \n",
    "        if response == \"read\":\n",
    "            with open(\"bills.csv\", \"r\") as b:\n",
    "                data = list()\n",
    "                total_bill = int()\n",
    "                monthly_bill = int()\n",
    "                month = input(\"Which month you want to calculate the bill: \")\n",
    "                for line in b:\n",
    "                    data = line.split(\",\")\n",
    "                    try:\n",
    "                        total_bill += calculate_total_bill(data)\n",
    "                        monthly_bill += calculate_monthly_bill(data, month)\n",
    "                        print(\"Thank you for using the software...\")\n",
    "                    except:\n",
    "                        print(\"input data must be in arguments\\n\")\n",
    "                        \n",
    "                print(total_bill)\n",
    "                print(monthly_bill)\n",
    "                \n",
    "        if response == \"Done\" or response == \"done\":\n",
    "            break"
   ]
  },
  {
   "cell_type": "markdown",
   "metadata": {},
   "source": [
    "[Back to Practice](PythonWorkshops_Python_Programming.ipynb#Complete--Try-it-#15)"
   ]
  },
  {
   "cell_type": "markdown",
   "metadata": {},
   "source": [
    "### Try it #16\n",
    "\n",
    "List<br>\n",
    "\n",
    "In a shopping mall, you are not allowed to take outisde covers, food, drinks or bags. \n",
    "So there is a luggage room with a boy who will take your items and give you a token, when you are leaving you can give the token and take the bag. \n",
    "\n",
    "Assume there are 15 customers coming in and going out in different timings, write a program which will help in allocating and returning the item tokens. There are only 8 Cabins 1, 2, 3, 4, 5, 6, 7, 8.1, 8.2, 8.3\n",
    "\n",
    "No 2 customers should have same token and none of the higher number tokens should be allocated when lower number cabins are available. \n",
    "\n",
    "<img src=\"https://visit.gent.be/sites/default/files/images-spot/bagagedepot_gent2.JPG\" />"
   ]
  },
  {
   "cell_type": "code",
   "execution_count": null,
   "metadata": {
    "collapsed": true
   },
   "outputs": [],
   "source": [
    "#Add your code here"
   ]
  },
  {
   "cell_type": "markdown",
   "metadata": {},
   "source": [
    "Once you have completed all above excersies, please save the notebook with your name at the end \n",
    "PythonWorkshops_Python_Excercises_Raja.ipynb and upload it to the Github folder shared with you. "
   ]
  },
  {
   "cell_type": "code",
   "execution_count": null,
   "metadata": {
    "collapsed": true
   },
   "outputs": [],
   "source": []
  }
 ],
 "metadata": {
  "kernelspec": {
   "display_name": "Python 3",
   "language": "python",
   "name": "python3"
  },
  "language_info": {
   "codemirror_mode": {
    "name": "ipython",
    "version": 3
   },
   "file_extension": ".py",
   "mimetype": "text/x-python",
   "name": "python",
   "nbconvert_exporter": "python",
   "pygments_lexer": "ipython3",
   "version": "3.5.2"
  }
 },
 "nbformat": 4,
 "nbformat_minor": 2
}
